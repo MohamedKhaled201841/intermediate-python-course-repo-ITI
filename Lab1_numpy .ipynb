{
 "cells": [
  {
   "cell_type": "code",
   "execution_count": 1,
   "metadata": {},
   "outputs": [],
   "source": [
    "import numpy as np\n",
    "import cv2\n"
   ]
  },
  {
   "cell_type": "markdown",
   "metadata": {},
   "source": [
    "# Q1: implement a linear regression model\n",
    "data row1 > header \n",
    " ### 1: data preprocessing \n",
    "       #i. apply to_add array to data where element 1 added to row 1 , element 2 added to row 2 and so on \n",
    "       #ii.apply to_Mult array to the data row by to \n",
    " ### 2: get the prediction values using the hyposis function weight array (regression_model)"
   ]
  },
  {
   "cell_type": "code",
   "execution_count": 2,
   "metadata": {},
   "outputs": [],
   "source": [
    "Data= np.array([[1000,1001,1002,1003],\n",
    "                [8,18,28,38],\n",
    "               [16,26,36,46],\n",
    "               [4,14,24,44]],dtype=\"int64\")\n",
    "\n",
    "to_add=np.array([2,4,6])\n",
    "to_mult=np.array([10,100,1000,1000])\n",
    "regression_model=np.array([2,4,6,8])"
   ]
  },
  {
   "cell_type": "code",
   "execution_count": 3,
   "metadata": {
    "scrolled": true
   },
   "outputs": [
    {
     "name": "stdout",
     "output_type": "stream",
     "text": [
      "[[ 8 18 28 38]\n",
      " [16 26 36 46]\n",
      " [ 4 14 24 44]]\n"
     ]
    }
   ],
   "source": [
    "##step1 print dataset without header row\n",
    "Data_without_header=Data[1:,:]\n",
    "print(Data_without_header)"
   ]
  },
  {
   "cell_type": "code",
   "execution_count": 4,
   "metadata": {
    "scrolled": true
   },
   "outputs": [
    {
     "name": "stdout",
     "output_type": "stream",
     "text": [
      "[[10 20 30 40]\n",
      " [20 30 40 50]\n",
      " [10 20 30 50]]\n"
     ]
    }
   ],
   "source": [
    "###step2 i. to_Add\n",
    "to_add=to_add.reshape(3,1)\n",
    "to_Add=Data_without_header+to_add\n",
    "print(to_Add)"
   ]
  },
  {
   "cell_type": "code",
   "execution_count": 5,
   "metadata": {},
   "outputs": [
    {
     "name": "stdout",
     "output_type": "stream",
     "text": [
      "[[  100  2000 30000 40000]\n",
      " [  200  3000 40000 50000]\n",
      " [  100  2000 30000 50000]]\n"
     ]
    }
   ],
   "source": [
    "##step3 ii. to_MUlt\n",
    "to_mul=to_mult.reshape(4,1)\n",
    "to_MUlt=to_Add*to_mult\n",
    "print(to_MUlt)"
   ]
  },
  {
   "cell_type": "code",
   "execution_count": 6,
   "metadata": {},
   "outputs": [
    {
     "name": "stdout",
     "output_type": "stream",
     "text": [
      "[[508200]\n",
      " [652400]\n",
      " [588200]]\n"
     ]
    }
   ],
   "source": [
    "###step4 prediction results\n",
    "regression_model=regression_model.reshape(4,1)\n",
    "results=to_MUlt@regression_model\n",
    "print(results)"
   ]
  },
  {
   "cell_type": "code",
   "execution_count": 7,
   "metadata": {},
   "outputs": [
    {
     "name": "stdout",
     "output_type": "stream",
     "text": [
      "Requirement already satisfied: opencv-python in c:\\users\\mohamed khaled\\anaconda3\\lib\\site-packages (4.5.3.56)\n",
      "Requirement already satisfied: numpy>=1.17.3 in c:\\users\\mohamed khaled\\anaconda3\\lib\\site-packages (from opencv-python) (1.19.2)\n"
     ]
    }
   ],
   "source": [
    "!pip install opencv-python"
   ]
  },
  {
   "cell_type": "markdown",
   "metadata": {},
   "source": [
    "# Q2. Transformation\n",
    "\n",
    "### apply crop , rotation  to the image \n",
    "\n",
    "#1: convert image from  BGR scale to Gray , Red ,Green & Blue scale\n",
    "#2: crop the right  half\n",
    "#3: crop the right bottom quarter\n",
    "#4: zoom in by remove the quarter border from all sides \n",
    "#5: flip on x-axis \n",
    "#6: flip on y-axis "
   ]
  },
  {
   "cell_type": "code",
   "execution_count": 8,
   "metadata": {},
   "outputs": [],
   "source": [
    "image=cv2.imread(\"image.jpg\") ### in_BGR\n",
    "cv2.imshow(\"original_image\",image)\n",
    "cv2.waitKey(0)\n",
    "cv2.destroyAllWindows()"
   ]
  },
  {
   "cell_type": "code",
   "execution_count": 9,
   "metadata": {},
   "outputs": [
    {
     "name": "stdout",
     "output_type": "stream",
     "text": [
      "[[[246 236 236]\n",
      "  [247 237 237]\n",
      "  [248 238 238]\n",
      "  ...\n",
      "  [250 242 235]\n",
      "  [250 242 235]\n",
      "  [250 242 235]]\n",
      "\n",
      " [[246 236 236]\n",
      "  [246 236 236]\n",
      "  [247 237 237]\n",
      "  ...\n",
      "  [249 241 234]\n",
      "  [249 241 234]\n",
      "  [249 241 234]]\n",
      "\n",
      " [[245 235 235]\n",
      "  [246 236 236]\n",
      "  [247 237 237]\n",
      "  ...\n",
      "  [249 241 234]\n",
      "  [249 241 234]\n",
      "  [249 241 234]]\n",
      "\n",
      " ...\n",
      "\n",
      " [[ 23  33  16]\n",
      "  [ 44  54  37]\n",
      "  [ 65  72  57]\n",
      "  ...\n",
      "  [ 19  61  68]\n",
      "  [ 19  61  68]\n",
      "  [ 19  61  68]]\n",
      "\n",
      " [[ 34  46  28]\n",
      "  [ 57  69  51]\n",
      "  [ 71  82  66]\n",
      "  ...\n",
      "  [ 11  60  70]\n",
      "  [ 11  60  70]\n",
      "  [ 11  60  70]]\n",
      "\n",
      " [[ 71  85  67]\n",
      "  [ 94 108  90]\n",
      "  [103 116 100]\n",
      "  ...\n",
      "  [ 10  64  75]\n",
      "  [ 10  64  75]\n",
      "  [ 10  64  75]]]\n"
     ]
    }
   ],
   "source": [
    "## step1 print image data \n",
    "print(image[:,:,:])\n"
   ]
  },
  {
   "cell_type": "code",
   "execution_count": 10,
   "metadata": {},
   "outputs": [
    {
     "name": "stdout",
     "output_type": "stream",
     "text": [
      "(183, 276, 3)\n"
     ]
    }
   ],
   "source": [
    "## step2 print image shape\n",
    "print(image.shape)"
   ]
  },
  {
   "cell_type": "code",
   "execution_count": 11,
   "metadata": {},
   "outputs": [],
   "source": [
    "## step3  get the value of lx ,ly \n",
    "lx=image.shape[0]\n",
    "ly=image.shape[1]\n",
    "\n"
   ]
  },
  {
   "cell_type": "code",
   "execution_count": 12,
   "metadata": {},
   "outputs": [],
   "source": [
    "### step4 image in gray scale \n",
    "cv2.imshow(\"Gray scale\",image[:,:,1])\n",
    "cv2.waitKey(0)\n",
    "cv2.destroyAllWindows()"
   ]
  },
  {
   "cell_type": "code",
   "execution_count": 29,
   "metadata": {},
   "outputs": [],
   "source": [
    "### step 5 image in Blue scale \n",
    "blue_channel = image[:,:,0]\n",
    "blue_img = np.zeros(image.shape)\n",
    "blue_img[:,:,0]=blue_channel\n",
    "cv2.imshow(\"Blue Scale\",blue_img)\n",
    "cv2.waitKey(0)\n",
    "cv2.destroyAllWindows()"
   ]
  },
  {
   "cell_type": "code",
   "execution_count": 14,
   "metadata": {},
   "outputs": [],
   "source": [
    "### step 6 image in red scale \n",
    "red_channel = image[:,:,2]\n",
    "red_img = np.zeros(image.shape)\n",
    "red_img[:,:,2]=red_channel\n",
    "cv2.imshow(\"Red Scale\",red_img)\n",
    "cv2.waitKey(0)\n",
    "cv2.destroyAllWindows()"
   ]
  },
  {
   "cell_type": "code",
   "execution_count": 15,
   "metadata": {},
   "outputs": [],
   "source": [
    "### step 7 image in Green scale \n",
    "green_channel = image[:,:,1]\n",
    "green_img = np.zeros(image.shape)\n",
    "green_img[:,:,1]=red_channel\n",
    "cv2.imshow(\"Green scale\",green_img)\n",
    "cv2.waitKey(0)\n",
    "cv2.destroyAllWindows()"
   ]
  },
  {
   "cell_type": "code",
   "execution_count": 16,
   "metadata": {},
   "outputs": [],
   "source": [
    "# step 8 crop the right half\n",
    "ly_half=ly//2\n",
    "cv2.imshow(\"original_image\",image[:,:,:])\n",
    "cv2.imshow(\" right half\",image[:,ly_half:,:])\n",
    "cv2.waitKey(0)\n",
    "cv2.destroyAllWindows()"
   ]
  },
  {
   "cell_type": "code",
   "execution_count": 31,
   "metadata": {},
   "outputs": [],
   "source": [
    "## step 9 crop the right bottom quarter\n",
    "\n",
    "cv2.imshow(\"gray\",image[:,:,:])\n",
    "cv2.imshow(\" right bottom quarter\",image[lx//2:,ly//2:,:])\n",
    "cv2.waitKey(0)\n",
    "cv2.destroyAllWindows()"
   ]
  },
  {
   "cell_type": "code",
   "execution_count": 32,
   "metadata": {},
   "outputs": [],
   "source": [
    "## step 10 remove the quarter border from all sides \n",
    "cv2.imshow(\"original_image\",image[:,:,:])\n",
    "cv2.imshow(\" zoom in \",image[lx//4:3*lx//4,ly//4:3*ly//4,:])\n",
    "cv2.waitKey(0)\n",
    "cv2.destroyAllWindows()"
   ]
  },
  {
   "cell_type": "code",
   "execution_count": 19,
   "metadata": {},
   "outputs": [
    {
     "name": "stdout",
     "output_type": "stream",
     "text": [
      "(183, 276, 3)\n"
     ]
    }
   ],
   "source": [
    "## step 11 flip on x-axis \n",
    "print(image.shape)\n",
    "cv2.imshow(\"original_image\",image[:,:,:])\n",
    "cv2.imshow(\" flip the image in x axis \",image[lx:0:-1,:,:])\n",
    "cv2.waitKey(0)\n",
    "cv2.destroyAllWindows()"
   ]
  },
  {
   "cell_type": "code",
   "execution_count": 20,
   "metadata": {},
   "outputs": [],
   "source": [
    "## step 12 flip on y-axis\n",
    "cv2.imshow(\"original_image\",image[:,:,:])\n",
    "cv2.imshow(\" flip the image in y axis \",image[:,ly:0:-1,:])\n",
    "cv2.waitKey(0)\n",
    "cv2.destroyAllWindows()"
   ]
  },
  {
   "cell_type": "markdown",
   "metadata": {},
   "source": [
    "## Q3  Write a program to broadcast on different shapes of arrays where p(3,3) + q(3)\n",
    "\n",
    "- p >> [[0, 0, 0],[1, 2, 3],[4, 5, 6]]\n",
    "- q >> [10, 11, 12]"
   ]
  },
  {
   "cell_type": "code",
   "execution_count": 21,
   "metadata": {},
   "outputs": [
    {
     "name": "stdout",
     "output_type": "stream",
     "text": [
      "[[10 11 12]\n",
      " [11 13 15]\n",
      " [14 16 18]]\n"
     ]
    }
   ],
   "source": [
    "p=np.array([[0, 0, 0],[1, 2, 3],[4, 5, 6]])\n",
    "q=np.array([10, 11, 12])\n",
    "print(p+q)"
   ]
  },
  {
   "cell_type": "markdown",
   "metadata": {},
   "source": [
    "## Q4 Write a NumPy program to make an array immutable "
   ]
  },
  {
   "cell_type": "code",
   "execution_count": 22,
   "metadata": {},
   "outputs": [
    {
     "name": "stdout",
     "output_type": "stream",
     "text": [
      "[[2 2 2 2 2]\n",
      " [2 2 2 2 2]\n",
      " [2 2 2 2 2]]\n"
     ]
    }
   ],
   "source": [
    "array_of_2 = np.full((3, 5), 2)\n",
    "array_of_2.flags.writeable=False \n",
    "print(array_of_2)\n"
   ]
  },
  {
   "cell_type": "markdown",
   "metadata": {},
   "source": [
    "## Q5 Write a NumPy program to create a new array of 3*5, filled with 2"
   ]
  },
  {
   "cell_type": "code",
   "execution_count": 23,
   "metadata": {},
   "outputs": [
    {
     "name": "stdout",
     "output_type": "stream",
     "text": [
      "[[2 2 2 2 2]\n",
      " [2 2 2 2 2]\n",
      " [2 2 2 2 2]]\n"
     ]
    }
   ],
   "source": [
    "array_of_2 = np.full((3, 5), 2)\n",
    "print(array_of_2)"
   ]
  },
  {
   "cell_type": "markdown",
   "metadata": {},
   "source": [
    "## Q6 Write a NumPy program to get the number of nonzero elements in an array\n",
    "\n",
    "- array = [[0, 10, 20], [20, 0, 40]]"
   ]
  },
  {
   "cell_type": "code",
   "execution_count": 24,
   "metadata": {},
   "outputs": [
    {
     "name": "stdout",
     "output_type": "stream",
     "text": [
      "4\n"
     ]
    }
   ],
   "source": [
    "array=np.array([[0, 10, 20], [20, 0, 40]])\n",
    "print(np.count_nonzero(array))"
   ]
  },
  {
   "cell_type": "markdown",
   "metadata": {},
   "source": [
    "## Q7 Write a NumPy program to get the minimum and maximum value of an array along the second axis\n",
    "\n",
    "- create array 2x2 contains data from 0 to 3 "
   ]
  },
  {
   "cell_type": "code",
   "execution_count": 25,
   "metadata": {},
   "outputs": [
    {
     "name": "stdout",
     "output_type": "stream",
     "text": [
      "0\n",
      "3\n"
     ]
    }
   ],
   "source": [
    "array=np.arange(4).reshape((2, 2))\n",
    "print(np.min(array))\n",
    "print(np.max(array))\n"
   ]
  },
  {
   "cell_type": "markdown",
   "metadata": {},
   "source": [
    "## Q8  Write a NumPy program to compute the mean, median,standard deviation, and variance of a given array \n",
    "\n",
    "- array = [0 4 2 1 3 5]"
   ]
  },
  {
   "cell_type": "code",
   "execution_count": 26,
   "metadata": {},
   "outputs": [
    {
     "name": "stdout",
     "output_type": "stream",
     "text": [
      "mean 2.5\n",
      "median 2.5\n",
      "standard deviation 1.707825127659933\n",
      "variance 2.9166666666666665\n"
     ]
    }
   ],
   "source": [
    "\n",
    "array = np.array([0, 4 ,2, 1, 3 ,5])\n",
    "print(\"mean\",np.mean(array))\n",
    "print(\"median\",np.median(array))\n",
    "print(\"standard deviation\",np.std(array))\n",
    "print(\"variance\",np.var(array))\n",
    "\n"
   ]
  },
  {
   "cell_type": "code",
   "execution_count": null,
   "metadata": {},
   "outputs": [],
   "source": []
  }
 ],
 "metadata": {
  "kernelspec": {
   "display_name": "Python 3",
   "language": "python",
   "name": "python3"
  },
  "language_info": {
   "codemirror_mode": {
    "name": "ipython",
    "version": 3
   },
   "file_extension": ".py",
   "mimetype": "text/x-python",
   "name": "python",
   "nbconvert_exporter": "python",
   "pygments_lexer": "ipython3",
   "version": "3.8.5"
  }
 },
 "nbformat": 4,
 "nbformat_minor": 4
}
